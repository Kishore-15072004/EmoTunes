{
 "cells": [
  {
   "cell_type": "code",
   "execution_count": 3,
   "id": "864f4341-b02c-45f2-a03a-70d3e1cc1d34",
   "metadata": {},
   "outputs": [
    {
     "name": "stdout",
     "output_type": "stream",
     "text": [
      "Label 'angry' completed\n",
      "Label 'disgust' completed\n",
      "Label 'fear' completed\n",
      "Label 'happy' completed\n",
      "Label 'neutral' completed\n",
      "Label 'sad' completed\n",
      "Label 'surprise' completed\n",
      "Label 'angry' completed\n",
      "Label 'disgust' completed\n",
      "Label 'fear' completed\n",
      "Label 'happy' completed\n",
      "Label 'neutral' completed\n",
      "Label 'sad' completed\n",
      "Label 'surprise' completed\n",
      "Train DataFrame:\n",
      "                          image  label\n",
      "0      images/train\\angry\\0.jpg  angry\n",
      "1      images/train\\angry\\1.jpg  angry\n",
      "2     images/train\\angry\\10.jpg  angry\n",
      "3  images/train\\angry\\10002.jpg  angry\n",
      "4  images/train\\angry\\10016.jpg  angry\n",
      "\n",
      "Test DataFrame:\n",
      "                               image  label\n",
      "0  images/validation\\angry\\10052.jpg  angry\n",
      "1  images/validation\\angry\\10065.jpg  angry\n",
      "2  images/validation\\angry\\10079.jpg  angry\n",
      "3  images/validation\\angry\\10095.jpg  angry\n",
      "4  images/validation\\angry\\10121.jpg  angry\n"
     ]
    }
   ],
   "source": [
    "import os\n",
    "import pandas as pd\n",
    "\n",
    "# Directories\n",
    "TRAIN_DIRECTORY = \"images/train\"\n",
    "TEST_DIRECTORY = \"images/validation\"\n",
    "\n",
    "# Function to create DataFrame\n",
    "def createDataFrame(dir):\n",
    "    image_paths = []\n",
    "    labels = []\n",
    "    for label in os.listdir(dir):  # Iterate through folders (labels)\n",
    "        label_path = os.path.join(dir, label)\n",
    "        if os.path.isdir(label_path):  # Ensure it's a directory\n",
    "            for imageName in os.listdir(label_path):  # Iterate through images\n",
    "                image_paths.append(os.path.join(label_path, imageName))\n",
    "                labels.append(label)\n",
    "            print(f\"Label '{label}' completed\")\n",
    "    return image_paths, labels\n",
    "\n",
    "# Create DataFrames for train and test datasets\n",
    "train = pd.DataFrame()\n",
    "train['image'], train['label'] = createDataFrame(TRAIN_DIRECTORY)\n",
    "\n",
    "test = pd.DataFrame()\n",
    "test['image'], test['label'] = createDataFrame(TEST_DIRECTORY)\n",
    "\n",
    "# Save DataFrames to CSV files (optional)\n",
    "train.to_csv(\"train_dataset.csv\", index=False)\n",
    "test.to_csv(\"test_dataset.csv\", index=False)\n",
    "\n",
    "# Display first few rows of train and test DataFrames\n",
    "print(\"Train DataFrame:\")\n",
    "print(train.head())\n",
    "print(\"\\nTest DataFrame:\")\n",
    "print(test.head())\n"
   ]
  },
  {
   "cell_type": "code",
   "execution_count": null,
   "id": "d640ac02-ad32-4c0c-af01-91e7ef08fef7",
   "metadata": {},
   "outputs": [],
   "source": []
  }
 ],
 "metadata": {
  "kernelspec": {
   "display_name": "Python 3 (ipykernel)",
   "language": "python",
   "name": "python3"
  },
  "language_info": {
   "codemirror_mode": {
    "name": "ipython",
    "version": 3
   },
   "file_extension": ".py",
   "mimetype": "text/x-python",
   "name": "python",
   "nbconvert_exporter": "python",
   "pygments_lexer": "ipython3",
   "version": "3.12.4"
  }
 },
 "nbformat": 4,
 "nbformat_minor": 5
}
